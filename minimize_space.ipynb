{
 "cells": [
  {
   "cell_type": "markdown",
   "metadata": {},
   "source": [
    "This works"
   ]
  },
  {
   "cell_type": "code",
   "execution_count": 13,
   "metadata": {},
   "outputs": [],
   "source": [
    "import graphix.command\n",
    "from graphix.random_objects import Circuit, rand_circuit\n",
    "from graphix.states import BasicStates\n",
    "from graphix.sim.density_matrix import DensityMatrixBackend\n",
    "from graphix.sim.statevec import StatevectorBackend, Statevec\n",
    "from graphix.pauli import Pauli\n",
    "from graphix.fundamentals import IXYZ\n",
    "import stim\n",
    "from graphix.noise_models import DepolarisingNoiseModel\n",
    "\n",
    "from veriphix.client import Client, Secrets, CircuitUtils\n",
    "import veriphix.client\n",
    "import numpy as np\n",
    "import random"
   ]
  },
  {
   "cell_type": "code",
   "execution_count": 22,
   "metadata": {},
   "outputs": [
    {
     "name": "stdout",
     "output_type": "stream",
     "text": [
      "Number of nodes in the pattern : 213\n"
     ]
    }
   ],
   "source": [
    "nqubits = 7\n",
    "depth = 10\n",
    "circuit = rand_circuit(nqubits, depth)\n",
    "pattern = circuit.transpile().pattern \n",
    "pattern.minimize_space()\n",
    "\n",
    "print(f\"Number of nodes in the pattern : {pattern.n_node}\")\n",
    "\n",
    "## Measure output nodes, to have classical output\n",
    "classical_output = pattern.output_nodes\n",
    "for onode in classical_output:\n",
    "    pattern.add(graphix.command.M(node=onode))\n"
   ]
  },
  {
   "cell_type": "markdown",
   "metadata": {},
   "source": [
    "Here comes **Veriphix**"
   ]
  },
  {
   "cell_type": "code",
   "execution_count": 23,
   "metadata": {},
   "outputs": [
    {
     "name": "stdout",
     "output_type": "stream",
     "text": [
      "Number of failed rounds: 0/1\n"
     ]
    }
   ],
   "source": [
    "secrets = Secrets(r=True, a=True, theta=True)\n",
    "client = Client(pattern=pattern, secrets=secrets)\n",
    "test_runs = client.create_test_runs()\n",
    "\n",
    "# Insert noise here !!\n",
    "noise = DepolarisingNoiseModel(entanglement_error_prob=0.01)\n",
    "\n",
    "backend = DensityMatrixBackend()\n",
    "\n",
    "n_failures = 0\n",
    "n_iterations = 1\n",
    "for _ in range(n_iterations) :\n",
    "    run = random.choice(test_runs)\n",
    "    trap_outcomes = client.delegate_test_run(run=run, backend=backend, noise_model = noise)\n",
    "    \n",
    "    if sum(trap_outcomes) != 0:\n",
    "        n_failures += 1\n",
    "    #     print(\"Failed trap round\")\n",
    "    # else:\n",
    "    #     print(\"Trap round passed\")\n",
    "        \n",
    "print(f\"Number of failed rounds: {n_failures}/{n_iterations}\")"
   ]
  },
  {
   "cell_type": "code",
   "execution_count": 14,
   "metadata": {},
   "outputs": [],
   "source": [
    "def make_clifford(pattern:graphix.Pattern):\n",
    "    clifford_pattern = graphix.Pattern(pattern.input_nodes)\n",
    "    for cmd in pattern:\n",
    "        clifford_pattern.add(cmd)\n",
    "    for cmd in clifford_pattern:\n",
    "        if cmd.kind == graphix.command.CommandKind.M :\n",
    "            new_angle = random.choice([0, 1/2, 1, 3/2])\n",
    "            cmd.angle = new_angle\n",
    "    return clifford_pattern"
   ]
  },
  {
   "cell_type": "code",
   "execution_count": 6,
   "metadata": {},
   "outputs": [
    {
     "name": "stdout",
     "output_type": "stream",
     "text": [
      "0\n",
      "1\n",
      "1\n",
      "1\n",
      "Trap outcome of noiseless trap run: 0\n",
      "Trap outcome of noisy trap run: 151\n"
     ]
    }
   ],
   "source": [
    "\n",
    "backend = DensityMatrixBackend()\n",
    "\n",
    "\n",
    "# Noiseless computation run\n",
    "client.delegate_pattern(backend=backend)\n",
    "for onode in classical_output:\n",
    "    print(client.results[onode])\n",
    "    \n",
    "\n",
    "# Noiseless trap run\n",
    "noiseless_model = DepolarisingNoiseModel(entanglement_error_prob=0)\n",
    "rd_run = random.choice(runs)\n",
    "trap_outcomes = client.delegate_test_run(backend=backend, run=rd_run, noise_model=noiseless_model)\n",
    "print(f\"Trap outcome of noiseless trap run: {sum(trap_outcomes)}\") # should output 0 (noiseless simulation)\n",
    "\n",
    "# (ultra) Noisy trap run\n",
    "ultra_noisy_model = DepolarisingNoiseModel(entanglement_error_prob=1)\n",
    "rd_run = random.choice(runs)\n",
    "trap_outcomes = client.delegate_test_run(backend=backend, run=rd_run, noise_model=ultra_noisy_model)\n",
    "print(f\"Trap outcome of noisy trap run: {sum(trap_outcomes)}\") # should NOT output 0 (noisy simulation)\n"
   ]
  }
 ],
 "metadata": {
  "kernelspec": {
   "display_name": ".venv",
   "language": "python",
   "name": "python3"
  },
  "language_info": {
   "codemirror_mode": {
    "name": "ipython",
    "version": 3
   },
   "file_extension": ".py",
   "mimetype": "text/x-python",
   "name": "python",
   "nbconvert_exporter": "python",
   "pygments_lexer": "ipython3",
   "version": "3.12.9"
  }
 },
 "nbformat": 4,
 "nbformat_minor": 2
}
