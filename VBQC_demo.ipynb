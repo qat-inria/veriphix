{
 "cells": [
  {
   "cell_type": "markdown",
   "metadata": {},
   "source": [
    "### How to verify the execution of a MBQC pattern ?\n",
    "Let the following circuit."
   ]
  },
  {
   "cell_type": "code",
   "execution_count": 1,
   "metadata": {},
   "outputs": [
    {
     "name": "stderr",
     "output_type": "stream",
     "text": [
      "/opt/homebrew/Caskroom/miniconda/base/envs/graphix/lib/python3.12/site-packages/cotengra/hyperoptimizers/hyper.py:33: UserWarning: Couldn't import `kahypar` - skipping from default hyper optimizer and using basic `labels` method instead.\n",
      "  warnings.warn(\n"
     ]
    }
   ],
   "source": [
    "import graphix.command\n",
    "from graphix.random_objects import Circuit\n",
    "from graphix.sim.density_matrix import DensityMatrixBackend\n",
    "from graphix.states import BasicStates\n",
    "\n",
    "from veriphix.client import Client, Secrets"
   ]
  },
  {
   "cell_type": "code",
   "execution_count": 2,
   "metadata": {},
   "outputs": [
    {
     "name": "stdout",
     "output_type": "stream",
     "text": [
      "N, node = 2\n",
      "N, node = 3\n",
      "N, node = 4\n",
      "N, node = 5\n",
      "E, nodes = (1, 2)\n",
      "E, nodes = (0, 2)\n",
      "E, nodes = (2, 3)\n",
      "E, nodes = (0, 4)\n",
      "E, nodes = (3, 5)\n",
      "M, node = 1, plane = Plane.XY, angle(pi) = 0.0, s_domain = set(), t_domain = set()\n",
      "M, node = 2, plane = Plane.XY, angle(pi) = 0.0, s_domain = set(), t_domain = set()\n",
      "M, node = 0, plane = Plane.XY, angle(pi) = 0.0, s_domain = set(), t_domain = {1}\n",
      "M, node = 3, plane = Plane.XY, angle(pi) = 0.0, s_domain = {2}, t_domain = {1}\n",
      "Z byproduct, node = 5, domain = {2}\n",
      "X byproduct, node = 4, domain = {0}\n",
      "X byproduct, node = 5, domain = {3}\n",
      "Number of occurrences of output '00' : 1000\n"
     ]
    }
   ],
   "source": [
    "## This circuit, with |0> states as inputs,\n",
    "# yields deterministic outcomes (BQP error p =0)\n",
    "circuit = Circuit(2)\n",
    "circuit.cnot(0, 1)\n",
    "circuit.h(0)\n",
    "circuit.h(1)\n",
    "pattern = circuit.transpile().pattern  ## 6 nodes\n",
    "pattern.standardize()\n",
    "pattern.print_pattern()\n",
    "\n",
    "## Measure output nodes, to have classical output\n",
    "classical_output = pattern.output_nodes\n",
    "for onode in classical_output:\n",
    "    pattern.add(graphix.command.M(node=onode))\n",
    "\n",
    "\n",
    "pattern.standardize()\n",
    "states = [BasicStates.ZERO for _ in range(2)]\n",
    "\n",
    "n_good_output = 0\n",
    "\n",
    "for _i in range(1000):\n",
    "    pattern.simulate_pattern(backend=\"statevector\", input_state=states)\n",
    "    if pattern.results[4] == 0 and pattern.results[5] == 0:\n",
    "        n_good_output += 1\n",
    "\n",
    "print(f\"Number of occurrences of output '00' : {n_good_output}\")"
   ]
  },
  {
   "cell_type": "code",
   "execution_count": 3,
   "metadata": {},
   "outputs": [
    {
     "name": "stdout",
     "output_type": "stream",
     "text": [
      "The graph of the pattern has 6 nodes.\n",
      "There are 6 traps in total. (VBQC uses single-qubit traps)\n"
     ]
    }
   ],
   "source": [
    "secrets = Secrets(r=True, a=True, theta=True)\n",
    "\n",
    "client = Client(pattern=pattern, secrets=secrets, input_state=states)\n",
    "\n",
    "test_runs = client.create_test_runs()\n",
    "\n",
    "\n",
    "number_of_traps = sum([len(run.trap_qubits) for run in test_runs])\n",
    "n_nodes = len(client.graph[0])\n",
    "print(f\"The graph of the pattern has {n_nodes} nodes.\")\n",
    "print(f\"There are {number_of_traps} traps in total. (VBQC uses single-qubit traps)\")"
   ]
  },
  {
   "cell_type": "markdown",
   "metadata": {},
   "source": [
    "## Concrete VBQC example"
   ]
  },
  {
   "cell_type": "markdown",
   "metadata": {},
   "source": [
    "### Performing the simulation"
   ]
  },
  {
   "cell_type": "code",
   "execution_count": 5,
   "metadata": {},
   "outputs": [],
   "source": [
    "import random as rd\n",
    "\n",
    "from graphix.noise_models import DepolarisingNoiseModel"
   ]
  },
  {
   "cell_type": "code",
   "execution_count": 7,
   "metadata": {},
   "outputs": [
    {
     "name": "stdout",
     "output_type": "stream",
     "text": [
      "Iterating 100 times with 50 computation rounds and 50 trap rounds.\n",
      "Attempt with noise model p=0\n",
      "Attempt with noise model p=0.1\n",
      "Attempt with noise model p=0.15\n",
      "Attempt with noise model p=0.2\n",
      "Attempt with noise model p=0.5\n",
      "Attempt with noise model p=1\n",
      "Proportion of failed traps in for different noise levels:  {0: 0.0, 0.1: 0.32, 0.15: 0.4, 0.2: 0.42, 0.5: 0.84, 1: 0.9}\n"
     ]
    }
   ],
   "source": [
    "from matplotlib import cm  # Colormap\n",
    "from matplotlib.colors import LogNorm\n",
    "\n",
    "# Trappified scheme parameters\n",
    "d = 50  # nr of computation rounds\n",
    "t = 50  # nr of test rounds\n",
    "N = d + t\n",
    "rounds = list(range(N))\n",
    "rd.shuffle(rounds)\n",
    "\n",
    "# Re-setting the backend\n",
    "backend = DensityMatrixBackend()\n",
    "\n",
    "# Store data for each value of p\n",
    "all_histograms = {}\n",
    "failed_traps_histograms = {}\n",
    "\n",
    "# Example of multiple p values (noise levels)\n",
    "p_values = [0, 0.1, 0.15, 0.2, 0.5, 1]\n",
    "\n",
    "print(f\"Iterating {N} times with {d} computation rounds and {t} trap rounds.\")\n",
    "for p in p_values:\n",
    "    # Defining the noise model (depolarizing noise)\n",
    "    noise = DepolarisingNoiseModel(entanglement_error_prob=p)\n",
    "    print(f\"Attempt with noise model p={p}\")\n",
    "\n",
    "    # Recording outcomes/traps failures\n",
    "    outcomes_histogram = dict()\n",
    "    n_failed_traps = 0\n",
    "\n",
    "    # Iterating through rounds\n",
    "    for i in rounds:\n",
    "        if i < d:\n",
    "            # Computation round\n",
    "            client.refresh_randomness()\n",
    "            client.delegate_pattern(backend=backend, noise_model=noise)\n",
    "\n",
    "            # Store result (increment occurrence in histogram)\n",
    "            computation_outcome = \"\"\n",
    "            for onode in classical_output:\n",
    "                computation_outcome += str(int(client.results[onode]))\n",
    "            if computation_outcome not in outcomes_histogram:\n",
    "                outcomes_histogram[computation_outcome] = 1\n",
    "            else:\n",
    "                outcomes_histogram[computation_outcome] += 1\n",
    "        else:\n",
    "            # Test round\n",
    "            run = rd.choice(test_runs)\n",
    "            client.refresh_randomness()\n",
    "            trap_outcomes = client.delegate_test_run(run=run, backend=backend, noise_model=noise)\n",
    "\n",
    "            # Record trap failure\n",
    "            # A trap round fails if one of the single-qubit traps failed\n",
    "            if sum(trap_outcomes) != 0:\n",
    "                n_failed_traps += 1\n",
    "\n",
    "    # Combine results\n",
    "    all_histograms[p] = outcomes_histogram\n",
    "    if t != 0:\n",
    "        failed_traps_histograms[p] = n_failed_traps / (t)\n",
    "\n",
    "# Combine all unique outcomes from all histograms\n",
    "all_outcomes = sorted(set().union(*[hist.keys() for hist in all_histograms.values()]))\n",
    "print(\"Proportion of failed traps in for different noise levels: \", failed_traps_histograms)"
   ]
  },
  {
   "cell_type": "markdown",
   "metadata": {},
   "source": [
    "### Plotting the results (plotly)"
   ]
  },
  {
   "cell_type": "markdown",
   "metadata": {},
   "source": [
    "### Histogram for the computation rounds"
   ]
  },
  {
   "cell_type": "code",
   "execution_count": 6,
   "metadata": {},
   "outputs": [
    {
     "name": "stderr",
     "output_type": "stream",
     "text": [
      "/var/folders/n5/hv7xz3zn675bw8ckw4q5ll3cmp3czq/T/ipykernel_28784/908283072.py:7: MatplotlibDeprecationWarning:\n",
      "\n",
      "The get_cmap function was deprecated in Matplotlib 3.7 and will be removed in 3.11. Use ``matplotlib.colormaps[name]`` or ``matplotlib.colormaps.get_cmap()`` or ``pyplot.get_cmap()`` instead.\n",
      "\n"
     ]
    },
    {
     "data": {
      "application/vnd.plotly.v1+json": {
       "config": {
        "plotlyServerURL": "https://plot.ly"
       },
       "data": [
        {
         "marker": {
          "color": [
           "#3b4cc0",
           "#3b4cc0",
           "#3b4cc0",
           "#3b4cc0"
          ]
         },
         "name": "p=0",
         "type": "bar",
         "visible": true,
         "x": [
          "00",
          "01",
          "10",
          "11"
         ],
         "y": [
          50,
          0,
          0,
          0
         ]
        },
        {
         "marker": {
          "color": [
           "#9fbfff",
           "#9fbfff",
           "#9fbfff",
           "#9fbfff"
          ]
         },
         "name": "p=0.1",
         "type": "bar",
         "visible": true,
         "x": [
          "00",
          "01",
          "10",
          "11"
         ],
         "y": [
          40,
          6,
          3,
          1
         ]
        },
        {
         "marker": {
          "color": [
           "#bfd3f6",
           "#bfd3f6",
           "#bfd3f6",
           "#bfd3f6"
          ]
         },
         "name": "p=0.15",
         "type": "bar",
         "visible": true,
         "x": [
          "00",
          "01",
          "10",
          "11"
         ],
         "y": [
          27,
          10,
          7,
          6
         ]
        },
        {
         "marker": {
          "color": [
           "#d7dce3",
           "#d7dce3",
           "#d7dce3",
           "#d7dce3"
          ]
         },
         "name": "p=0.2",
         "type": "bar",
         "visible": true,
         "x": [
          "00",
          "01",
          "10",
          "11"
         ],
         "y": [
          24,
          10,
          10,
          6
         ]
        },
        {
         "marker": {
          "color": [
           "#f18d6f",
           "#f18d6f",
           "#f18d6f",
           "#f18d6f"
          ]
         },
         "name": "p=0.5",
         "type": "bar",
         "visible": true,
         "x": [
          "00",
          "01",
          "10",
          "11"
         ],
         "y": [
          12,
          12,
          14,
          12
         ]
        },
        {
         "marker": {
          "color": [
           "#b40426",
           "#b40426",
           "#b40426",
           "#b40426"
          ]
         },
         "name": "p=1",
         "type": "bar",
         "visible": true,
         "x": [
          "00",
          "01",
          "10",
          "11"
         ],
         "y": [
          19,
          11,
          13,
          7
         ]
        }
       ],
       "layout": {
        "template": {
         "data": {
          "bar": [
           {
            "error_x": {
             "color": "#2a3f5f"
            },
            "error_y": {
             "color": "#2a3f5f"
            },
            "marker": {
             "line": {
              "color": "#E5ECF6",
              "width": 0.5
             },
             "pattern": {
              "fillmode": "overlay",
              "size": 10,
              "solidity": 0.2
             }
            },
            "type": "bar"
           }
          ],
          "barpolar": [
           {
            "marker": {
             "line": {
              "color": "#E5ECF6",
              "width": 0.5
             },
             "pattern": {
              "fillmode": "overlay",
              "size": 10,
              "solidity": 0.2
             }
            },
            "type": "barpolar"
           }
          ],
          "carpet": [
           {
            "aaxis": {
             "endlinecolor": "#2a3f5f",
             "gridcolor": "white",
             "linecolor": "white",
             "minorgridcolor": "white",
             "startlinecolor": "#2a3f5f"
            },
            "baxis": {
             "endlinecolor": "#2a3f5f",
             "gridcolor": "white",
             "linecolor": "white",
             "minorgridcolor": "white",
             "startlinecolor": "#2a3f5f"
            },
            "type": "carpet"
           }
          ],
          "choropleth": [
           {
            "colorbar": {
             "outlinewidth": 0,
             "ticks": ""
            },
            "type": "choropleth"
           }
          ],
          "contour": [
           {
            "colorbar": {
             "outlinewidth": 0,
             "ticks": ""
            },
            "colorscale": [
             [
              0,
              "#0d0887"
             ],
             [
              0.1111111111111111,
              "#46039f"
             ],
             [
              0.2222222222222222,
              "#7201a8"
             ],
             [
              0.3333333333333333,
              "#9c179e"
             ],
             [
              0.4444444444444444,
              "#bd3786"
             ],
             [
              0.5555555555555556,
              "#d8576b"
             ],
             [
              0.6666666666666666,
              "#ed7953"
             ],
             [
              0.7777777777777778,
              "#fb9f3a"
             ],
             [
              0.8888888888888888,
              "#fdca26"
             ],
             [
              1,
              "#f0f921"
             ]
            ],
            "type": "contour"
           }
          ],
          "contourcarpet": [
           {
            "colorbar": {
             "outlinewidth": 0,
             "ticks": ""
            },
            "type": "contourcarpet"
           }
          ],
          "heatmap": [
           {
            "colorbar": {
             "outlinewidth": 0,
             "ticks": ""
            },
            "colorscale": [
             [
              0,
              "#0d0887"
             ],
             [
              0.1111111111111111,
              "#46039f"
             ],
             [
              0.2222222222222222,
              "#7201a8"
             ],
             [
              0.3333333333333333,
              "#9c179e"
             ],
             [
              0.4444444444444444,
              "#bd3786"
             ],
             [
              0.5555555555555556,
              "#d8576b"
             ],
             [
              0.6666666666666666,
              "#ed7953"
             ],
             [
              0.7777777777777778,
              "#fb9f3a"
             ],
             [
              0.8888888888888888,
              "#fdca26"
             ],
             [
              1,
              "#f0f921"
             ]
            ],
            "type": "heatmap"
           }
          ],
          "heatmapgl": [
           {
            "colorbar": {
             "outlinewidth": 0,
             "ticks": ""
            },
            "colorscale": [
             [
              0,
              "#0d0887"
             ],
             [
              0.1111111111111111,
              "#46039f"
             ],
             [
              0.2222222222222222,
              "#7201a8"
             ],
             [
              0.3333333333333333,
              "#9c179e"
             ],
             [
              0.4444444444444444,
              "#bd3786"
             ],
             [
              0.5555555555555556,
              "#d8576b"
             ],
             [
              0.6666666666666666,
              "#ed7953"
             ],
             [
              0.7777777777777778,
              "#fb9f3a"
             ],
             [
              0.8888888888888888,
              "#fdca26"
             ],
             [
              1,
              "#f0f921"
             ]
            ],
            "type": "heatmapgl"
           }
          ],
          "histogram": [
           {
            "marker": {
             "pattern": {
              "fillmode": "overlay",
              "size": 10,
              "solidity": 0.2
             }
            },
            "type": "histogram"
           }
          ],
          "histogram2d": [
           {
            "colorbar": {
             "outlinewidth": 0,
             "ticks": ""
            },
            "colorscale": [
             [
              0,
              "#0d0887"
             ],
             [
              0.1111111111111111,
              "#46039f"
             ],
             [
              0.2222222222222222,
              "#7201a8"
             ],
             [
              0.3333333333333333,
              "#9c179e"
             ],
             [
              0.4444444444444444,
              "#bd3786"
             ],
             [
              0.5555555555555556,
              "#d8576b"
             ],
             [
              0.6666666666666666,
              "#ed7953"
             ],
             [
              0.7777777777777778,
              "#fb9f3a"
             ],
             [
              0.8888888888888888,
              "#fdca26"
             ],
             [
              1,
              "#f0f921"
             ]
            ],
            "type": "histogram2d"
           }
          ],
          "histogram2dcontour": [
           {
            "colorbar": {
             "outlinewidth": 0,
             "ticks": ""
            },
            "colorscale": [
             [
              0,
              "#0d0887"
             ],
             [
              0.1111111111111111,
              "#46039f"
             ],
             [
              0.2222222222222222,
              "#7201a8"
             ],
             [
              0.3333333333333333,
              "#9c179e"
             ],
             [
              0.4444444444444444,
              "#bd3786"
             ],
             [
              0.5555555555555556,
              "#d8576b"
             ],
             [
              0.6666666666666666,
              "#ed7953"
             ],
             [
              0.7777777777777778,
              "#fb9f3a"
             ],
             [
              0.8888888888888888,
              "#fdca26"
             ],
             [
              1,
              "#f0f921"
             ]
            ],
            "type": "histogram2dcontour"
           }
          ],
          "mesh3d": [
           {
            "colorbar": {
             "outlinewidth": 0,
             "ticks": ""
            },
            "type": "mesh3d"
           }
          ],
          "parcoords": [
           {
            "line": {
             "colorbar": {
              "outlinewidth": 0,
              "ticks": ""
             }
            },
            "type": "parcoords"
           }
          ],
          "pie": [
           {
            "automargin": true,
            "type": "pie"
           }
          ],
          "scatter": [
           {
            "fillpattern": {
             "fillmode": "overlay",
             "size": 10,
             "solidity": 0.2
            },
            "type": "scatter"
           }
          ],
          "scatter3d": [
           {
            "line": {
             "colorbar": {
              "outlinewidth": 0,
              "ticks": ""
             }
            },
            "marker": {
             "colorbar": {
              "outlinewidth": 0,
              "ticks": ""
             }
            },
            "type": "scatter3d"
           }
          ],
          "scattercarpet": [
           {
            "marker": {
             "colorbar": {
              "outlinewidth": 0,
              "ticks": ""
             }
            },
            "type": "scattercarpet"
           }
          ],
          "scattergeo": [
           {
            "marker": {
             "colorbar": {
              "outlinewidth": 0,
              "ticks": ""
             }
            },
            "type": "scattergeo"
           }
          ],
          "scattergl": [
           {
            "marker": {
             "colorbar": {
              "outlinewidth": 0,
              "ticks": ""
             }
            },
            "type": "scattergl"
           }
          ],
          "scattermapbox": [
           {
            "marker": {
             "colorbar": {
              "outlinewidth": 0,
              "ticks": ""
             }
            },
            "type": "scattermapbox"
           }
          ],
          "scatterpolar": [
           {
            "marker": {
             "colorbar": {
              "outlinewidth": 0,
              "ticks": ""
             }
            },
            "type": "scatterpolar"
           }
          ],
          "scatterpolargl": [
           {
            "marker": {
             "colorbar": {
              "outlinewidth": 0,
              "ticks": ""
             }
            },
            "type": "scatterpolargl"
           }
          ],
          "scatterternary": [
           {
            "marker": {
             "colorbar": {
              "outlinewidth": 0,
              "ticks": ""
             }
            },
            "type": "scatterternary"
           }
          ],
          "surface": [
           {
            "colorbar": {
             "outlinewidth": 0,
             "ticks": ""
            },
            "colorscale": [
             [
              0,
              "#0d0887"
             ],
             [
              0.1111111111111111,
              "#46039f"
             ],
             [
              0.2222222222222222,
              "#7201a8"
             ],
             [
              0.3333333333333333,
              "#9c179e"
             ],
             [
              0.4444444444444444,
              "#bd3786"
             ],
             [
              0.5555555555555556,
              "#d8576b"
             ],
             [
              0.6666666666666666,
              "#ed7953"
             ],
             [
              0.7777777777777778,
              "#fb9f3a"
             ],
             [
              0.8888888888888888,
              "#fdca26"
             ],
             [
              1,
              "#f0f921"
             ]
            ],
            "type": "surface"
           }
          ],
          "table": [
           {
            "cells": {
             "fill": {
              "color": "#EBF0F8"
             },
             "line": {
              "color": "white"
             }
            },
            "header": {
             "fill": {
              "color": "#C8D4E3"
             },
             "line": {
              "color": "white"
             }
            },
            "type": "table"
           }
          ]
         },
         "layout": {
          "annotationdefaults": {
           "arrowcolor": "#2a3f5f",
           "arrowhead": 0,
           "arrowwidth": 1
          },
          "autotypenumbers": "strict",
          "coloraxis": {
           "colorbar": {
            "outlinewidth": 0,
            "ticks": ""
           }
          },
          "colorscale": {
           "diverging": [
            [
             0,
             "#8e0152"
            ],
            [
             0.1,
             "#c51b7d"
            ],
            [
             0.2,
             "#de77ae"
            ],
            [
             0.3,
             "#f1b6da"
            ],
            [
             0.4,
             "#fde0ef"
            ],
            [
             0.5,
             "#f7f7f7"
            ],
            [
             0.6,
             "#e6f5d0"
            ],
            [
             0.7,
             "#b8e186"
            ],
            [
             0.8,
             "#7fbc41"
            ],
            [
             0.9,
             "#4d9221"
            ],
            [
             1,
             "#276419"
            ]
           ],
           "sequential": [
            [
             0,
             "#0d0887"
            ],
            [
             0.1111111111111111,
             "#46039f"
            ],
            [
             0.2222222222222222,
             "#7201a8"
            ],
            [
             0.3333333333333333,
             "#9c179e"
            ],
            [
             0.4444444444444444,
             "#bd3786"
            ],
            [
             0.5555555555555556,
             "#d8576b"
            ],
            [
             0.6666666666666666,
             "#ed7953"
            ],
            [
             0.7777777777777778,
             "#fb9f3a"
            ],
            [
             0.8888888888888888,
             "#fdca26"
            ],
            [
             1,
             "#f0f921"
            ]
           ],
           "sequentialminus": [
            [
             0,
             "#0d0887"
            ],
            [
             0.1111111111111111,
             "#46039f"
            ],
            [
             0.2222222222222222,
             "#7201a8"
            ],
            [
             0.3333333333333333,
             "#9c179e"
            ],
            [
             0.4444444444444444,
             "#bd3786"
            ],
            [
             0.5555555555555556,
             "#d8576b"
            ],
            [
             0.6666666666666666,
             "#ed7953"
            ],
            [
             0.7777777777777778,
             "#fb9f3a"
            ],
            [
             0.8888888888888888,
             "#fdca26"
            ],
            [
             1,
             "#f0f921"
            ]
           ]
          },
          "colorway": [
           "#636efa",
           "#EF553B",
           "#00cc96",
           "#ab63fa",
           "#FFA15A",
           "#19d3f3",
           "#FF6692",
           "#B6E880",
           "#FF97FF",
           "#FECB52"
          ],
          "font": {
           "color": "#2a3f5f"
          },
          "geo": {
           "bgcolor": "white",
           "lakecolor": "white",
           "landcolor": "#E5ECF6",
           "showlakes": true,
           "showland": true,
           "subunitcolor": "white"
          },
          "hoverlabel": {
           "align": "left"
          },
          "hovermode": "closest",
          "mapbox": {
           "style": "light"
          },
          "paper_bgcolor": "white",
          "plot_bgcolor": "#E5ECF6",
          "polar": {
           "angularaxis": {
            "gridcolor": "white",
            "linecolor": "white",
            "ticks": ""
           },
           "bgcolor": "#E5ECF6",
           "radialaxis": {
            "gridcolor": "white",
            "linecolor": "white",
            "ticks": ""
           }
          },
          "scene": {
           "xaxis": {
            "backgroundcolor": "#E5ECF6",
            "gridcolor": "white",
            "gridwidth": 2,
            "linecolor": "white",
            "showbackground": true,
            "ticks": "",
            "zerolinecolor": "white"
           },
           "yaxis": {
            "backgroundcolor": "#E5ECF6",
            "gridcolor": "white",
            "gridwidth": 2,
            "linecolor": "white",
            "showbackground": true,
            "ticks": "",
            "zerolinecolor": "white"
           },
           "zaxis": {
            "backgroundcolor": "#E5ECF6",
            "gridcolor": "white",
            "gridwidth": 2,
            "linecolor": "white",
            "showbackground": true,
            "ticks": "",
            "zerolinecolor": "white"
           }
          },
          "shapedefaults": {
           "line": {
            "color": "#2a3f5f"
           }
          },
          "ternary": {
           "aaxis": {
            "gridcolor": "white",
            "linecolor": "white",
            "ticks": ""
           },
           "baxis": {
            "gridcolor": "white",
            "linecolor": "white",
            "ticks": ""
           },
           "bgcolor": "#E5ECF6",
           "caxis": {
            "gridcolor": "white",
            "linecolor": "white",
            "ticks": ""
           }
          },
          "title": {
           "x": 0.05
          },
          "xaxis": {
           "automargin": true,
           "gridcolor": "white",
           "linecolor": "white",
           "ticks": "",
           "title": {
            "standoff": 15
           },
           "zerolinecolor": "white",
           "zerolinewidth": 2
          },
          "yaxis": {
           "automargin": true,
           "gridcolor": "white",
           "linecolor": "white",
           "ticks": "",
           "title": {
            "standoff": 15
           },
           "zerolinecolor": "white",
           "zerolinewidth": 2
          }
         }
        },
        "title": {
         "text": "Output bitstring occurrences, per noise level p"
        },
        "updatemenus": [
         {
          "buttons": [
           {
            "args": [
             {
              "visible": [
               true,
               false,
               false,
               false,
               false,
               false
              ]
             }
            ],
            "label": "p= 0",
            "method": "update"
           },
           {
            "args": [
             {
              "visible": [
               false,
               true,
               false,
               false,
               false,
               false
              ]
             }
            ],
            "label": "p= 0.1",
            "method": "update"
           },
           {
            "args": [
             {
              "visible": [
               false,
               false,
               true,
               false,
               false,
               false
              ]
             }
            ],
            "label": "p= 0.15",
            "method": "update"
           },
           {
            "args": [
             {
              "visible": [
               false,
               false,
               false,
               true,
               false,
               false
              ]
             }
            ],
            "label": "p= 0.2",
            "method": "update"
           },
           {
            "args": [
             {
              "visible": [
               false,
               false,
               false,
               false,
               true,
               false
              ]
             }
            ],
            "label": "p= 0.5",
            "method": "update"
           },
           {
            "args": [
             {
              "visible": [
               false,
               false,
               false,
               false,
               false,
               true
              ]
             }
            ],
            "label": "p= 1",
            "method": "update"
           },
           {
            "args": [
             {
              "visible": [
               true,
               true,
               true,
               true,
               true,
               true
              ]
             }
            ],
            "label": "Show All",
            "method": "update"
           }
          ],
          "direction": "right",
          "type": "buttons",
          "x": 0.5,
          "xanchor": "center",
          "y": 1.15
         }
        ]
       }
      }
     },
     "metadata": {},
     "output_type": "display_data"
    }
   ],
   "source": [
    "import plotly.graph_objects as go\n",
    "from matplotlib.colors import to_hex\n",
    "\n",
    "\n",
    "# Function to get color based on p value\n",
    "def get_heatmap_color(p, colormap_name=\"coolwarm\", vmin=0.1, vmax=1):\n",
    "    colormap = cm.get_cmap(colormap_name)\n",
    "    norm = LogNorm(vmin=vmin, vmax=vmax)  # Normalize p within [vmin, vmax]\n",
    "    return to_hex(colormap(norm(p)))  # Convert to hex color for Plotly\n",
    "\n",
    "\n",
    "# Initialize the figure\n",
    "fig = go.Figure()\n",
    "\n",
    "# Store the p values in a list to access them by index in buttons\n",
    "p_values = list(all_histograms.keys())\n",
    "\n",
    "# Add histograms for different 'p' values\n",
    "for p, histogram in all_histograms.items():\n",
    "    frequencies = [histogram.get(outcome, 0) for outcome in all_outcomes]\n",
    "\n",
    "    # Get colors for each bar based on the current p value\n",
    "    colors = [get_heatmap_color(p + 0.1) for _ in all_outcomes]\n",
    "\n",
    "    fig.add_trace(\n",
    "        go.Bar(\n",
    "            x=all_outcomes,\n",
    "            y=frequencies,\n",
    "            name=f\"p={p}\",  # Legend label\n",
    "            marker=dict(color=colors),  # Apply custom colors\n",
    "            visible=(p == 0),  # Only p=0 is visible by default\n",
    "        )\n",
    "    )\n",
    "\n",
    "fig.update_layout(\n",
    "    title=\"Output bitstring occurrences, per noise level p\",\n",
    "    updatemenus=[\n",
    "        {\n",
    "            \"type\": \"buttons\",\n",
    "            \"direction\": \"right\",\n",
    "            \"x\": 0.5,  # Horizontal position of the buttons\n",
    "            \"y\": 1.15,  # Vertical position above the chart\n",
    "            \"xanchor\": \"center\",  # Anchor buttons horizontally center\n",
    "            \"buttons\": [\n",
    "                {\n",
    "                    \"label\": f\"p= {key}\",\n",
    "                    \"method\": \"update\",\n",
    "                    \"args\": [{\"visible\": [i == idx for i in range(len(all_histograms))]}],\n",
    "                }\n",
    "                for idx, key in enumerate(all_histograms)\n",
    "            ]\n",
    "            + [{\"label\": \"Show All\", \"method\": \"update\", \"args\": [{\"visible\": [True] * len(all_histograms)}]}],\n",
    "        }\n",
    "    ],\n",
    ")\n",
    "\n",
    "# Set initial visibility (show only the first chart by default)\n",
    "initial_visibility = [True] + [False] * (len(all_histograms) - 1)\n",
    "fig.update_traces(visible=initial_visibility[0])\n",
    "\n",
    "fig.show()"
   ]
  },
  {
   "cell_type": "markdown",
   "metadata": {},
   "source": [
    "## Verification: do we accept these outcomes ?\n",
    "### Displaying the proportion of failed traps"
   ]
  },
  {
   "cell_type": "code",
   "execution_count": 7,
   "metadata": {},
   "outputs": [
    {
     "name": "stderr",
     "output_type": "stream",
     "text": [
      "/var/folders/n5/hv7xz3zn675bw8ckw4q5ll3cmp3czq/T/ipykernel_28784/4244744428.py:8: MatplotlibDeprecationWarning:\n",
      "\n",
      "The get_cmap function was deprecated in Matplotlib 3.7 and will be removed in 3.11. Use ``matplotlib.colormaps[name]`` or ``matplotlib.colormaps.get_cmap()`` or ``pyplot.get_cmap()`` instead.\n",
      "\n"
     ]
    },
    {
     "data": {
      "application/vnd.plotly.v1+json": {
       "config": {
        "plotlyServerURL": "https://plot.ly"
       },
       "data": [
        {
         "marker": {
          "color": [
           "#3b4cc0",
           "#3b4cc0",
           "#3b4cc0",
           "#3b4cc0"
          ]
         },
         "name": "p=0",
         "type": "bar",
         "visible": true,
         "x": [
          "00",
          "01",
          "10",
          "11"
         ],
         "xaxis": "x",
         "y": [
          50,
          0,
          0,
          0
         ],
         "yaxis": "y"
        },
        {
         "domain": {
          "x": [
           0.73,
           1
          ],
          "y": [
           0,
           1
          ]
         },
         "labels": [
          "Failed traps",
          "Passed traps"
         ],
         "marker": {
          "colors": [
           "#EF553B",
           "#a5ff33"
          ]
         },
         "name": "p=0",
         "type": "pie",
         "values": [
          0,
          1
         ],
         "visible": true
        },
        {
         "marker": {
          "color": [
           "#9fbfff",
           "#9fbfff",
           "#9fbfff",
           "#9fbfff"
          ]
         },
         "name": "p=0.1",
         "type": "bar",
         "visible": false,
         "x": [
          "00",
          "01",
          "10",
          "11"
         ],
         "xaxis": "x",
         "y": [
          40,
          6,
          3,
          1
         ],
         "yaxis": "y"
        },
        {
         "domain": {
          "x": [
           0.73,
           1
          ],
          "y": [
           0,
           1
          ]
         },
         "labels": [
          "Failed traps",
          "Passed traps"
         ],
         "marker": {
          "colors": [
           "#EF553B",
           "#a5ff33"
          ]
         },
         "name": "p=0.1",
         "type": "pie",
         "values": [
          0.28,
          0.72
         ],
         "visible": false
        },
        {
         "marker": {
          "color": [
           "#bfd3f6",
           "#bfd3f6",
           "#bfd3f6",
           "#bfd3f6"
          ]
         },
         "name": "p=0.15",
         "type": "bar",
         "visible": false,
         "x": [
          "00",
          "01",
          "10",
          "11"
         ],
         "xaxis": "x",
         "y": [
          27,
          10,
          7,
          6
         ],
         "yaxis": "y"
        },
        {
         "domain": {
          "x": [
           0.73,
           1
          ],
          "y": [
           0,
           1
          ]
         },
         "labels": [
          "Failed traps",
          "Passed traps"
         ],
         "marker": {
          "colors": [
           "#EF553B",
           "#a5ff33"
          ]
         },
         "name": "p=0.15",
         "type": "pie",
         "values": [
          0.34,
          0.6599999999999999
         ],
         "visible": false
        },
        {
         "marker": {
          "color": [
           "#d7dce3",
           "#d7dce3",
           "#d7dce3",
           "#d7dce3"
          ]
         },
         "name": "p=0.2",
         "type": "bar",
         "visible": false,
         "x": [
          "00",
          "01",
          "10",
          "11"
         ],
         "xaxis": "x",
         "y": [
          24,
          10,
          10,
          6
         ],
         "yaxis": "y"
        },
        {
         "domain": {
          "x": [
           0.73,
           1
          ],
          "y": [
           0,
           1
          ]
         },
         "labels": [
          "Failed traps",
          "Passed traps"
         ],
         "marker": {
          "colors": [
           "#EF553B",
           "#a5ff33"
          ]
         },
         "name": "p=0.2",
         "type": "pie",
         "values": [
          0.58,
          0.42
         ],
         "visible": false
        },
        {
         "marker": {
          "color": [
           "#f18d6f",
           "#f18d6f",
           "#f18d6f",
           "#f18d6f"
          ]
         },
         "name": "p=0.5",
         "type": "bar",
         "visible": false,
         "x": [
          "00",
          "01",
          "10",
          "11"
         ],
         "xaxis": "x",
         "y": [
          12,
          12,
          14,
          12
         ],
         "yaxis": "y"
        },
        {
         "domain": {
          "x": [
           0.73,
           1
          ],
          "y": [
           0,
           1
          ]
         },
         "labels": [
          "Failed traps",
          "Passed traps"
         ],
         "marker": {
          "colors": [
           "#EF553B",
           "#a5ff33"
          ]
         },
         "name": "p=0.5",
         "type": "pie",
         "values": [
          0.78,
          0.21999999999999997
         ],
         "visible": false
        },
        {
         "marker": {
          "color": [
           "#b40426",
           "#b40426",
           "#b40426",
           "#b40426"
          ]
         },
         "name": "p=1",
         "type": "bar",
         "visible": false,
         "x": [
          "00",
          "01",
          "10",
          "11"
         ],
         "xaxis": "x",
         "y": [
          19,
          11,
          13,
          7
         ],
         "yaxis": "y"
        },
        {
         "domain": {
          "x": [
           0.73,
           1
          ],
          "y": [
           0,
           1
          ]
         },
         "labels": [
          "Failed traps",
          "Passed traps"
         ],
         "marker": {
          "colors": [
           "#EF553B",
           "#a5ff33"
          ]
         },
         "name": "p=1",
         "type": "pie",
         "values": [
          0.84,
          0.16000000000000003
         ],
         "visible": false
        }
       ],
       "layout": {
        "annotations": [
         {
          "font": {
           "size": 16
          },
          "showarrow": false,
          "text": "Output Bitstring Occurrences",
          "x": 0.315,
          "xanchor": "center",
          "xref": "paper",
          "y": 1,
          "yanchor": "bottom",
          "yref": "paper"
         },
         {
          "font": {
           "size": 16
          },
          "showarrow": false,
          "text": "Failed/Passed Traps",
          "x": 0.865,
          "xanchor": "center",
          "xref": "paper",
          "y": 1,
          "yanchor": "bottom",
          "yref": "paper"
         }
        ],
        "template": {
         "data": {
          "bar": [
           {
            "error_x": {
             "color": "#2a3f5f"
            },
            "error_y": {
             "color": "#2a3f5f"
            },
            "marker": {
             "line": {
              "color": "#E5ECF6",
              "width": 0.5
             },
             "pattern": {
              "fillmode": "overlay",
              "size": 10,
              "solidity": 0.2
             }
            },
            "type": "bar"
           }
          ],
          "barpolar": [
           {
            "marker": {
             "line": {
              "color": "#E5ECF6",
              "width": 0.5
             },
             "pattern": {
              "fillmode": "overlay",
              "size": 10,
              "solidity": 0.2
             }
            },
            "type": "barpolar"
           }
          ],
          "carpet": [
           {
            "aaxis": {
             "endlinecolor": "#2a3f5f",
             "gridcolor": "white",
             "linecolor": "white",
             "minorgridcolor": "white",
             "startlinecolor": "#2a3f5f"
            },
            "baxis": {
             "endlinecolor": "#2a3f5f",
             "gridcolor": "white",
             "linecolor": "white",
             "minorgridcolor": "white",
             "startlinecolor": "#2a3f5f"
            },
            "type": "carpet"
           }
          ],
          "choropleth": [
           {
            "colorbar": {
             "outlinewidth": 0,
             "ticks": ""
            },
            "type": "choropleth"
           }
          ],
          "contour": [
           {
            "colorbar": {
             "outlinewidth": 0,
             "ticks": ""
            },
            "colorscale": [
             [
              0,
              "#0d0887"
             ],
             [
              0.1111111111111111,
              "#46039f"
             ],
             [
              0.2222222222222222,
              "#7201a8"
             ],
             [
              0.3333333333333333,
              "#9c179e"
             ],
             [
              0.4444444444444444,
              "#bd3786"
             ],
             [
              0.5555555555555556,
              "#d8576b"
             ],
             [
              0.6666666666666666,
              "#ed7953"
             ],
             [
              0.7777777777777778,
              "#fb9f3a"
             ],
             [
              0.8888888888888888,
              "#fdca26"
             ],
             [
              1,
              "#f0f921"
             ]
            ],
            "type": "contour"
           }
          ],
          "contourcarpet": [
           {
            "colorbar": {
             "outlinewidth": 0,
             "ticks": ""
            },
            "type": "contourcarpet"
           }
          ],
          "heatmap": [
           {
            "colorbar": {
             "outlinewidth": 0,
             "ticks": ""
            },
            "colorscale": [
             [
              0,
              "#0d0887"
             ],
             [
              0.1111111111111111,
              "#46039f"
             ],
             [
              0.2222222222222222,
              "#7201a8"
             ],
             [
              0.3333333333333333,
              "#9c179e"
             ],
             [
              0.4444444444444444,
              "#bd3786"
             ],
             [
              0.5555555555555556,
              "#d8576b"
             ],
             [
              0.6666666666666666,
              "#ed7953"
             ],
             [
              0.7777777777777778,
              "#fb9f3a"
             ],
             [
              0.8888888888888888,
              "#fdca26"
             ],
             [
              1,
              "#f0f921"
             ]
            ],
            "type": "heatmap"
           }
          ],
          "heatmapgl": [
           {
            "colorbar": {
             "outlinewidth": 0,
             "ticks": ""
            },
            "colorscale": [
             [
              0,
              "#0d0887"
             ],
             [
              0.1111111111111111,
              "#46039f"
             ],
             [
              0.2222222222222222,
              "#7201a8"
             ],
             [
              0.3333333333333333,
              "#9c179e"
             ],
             [
              0.4444444444444444,
              "#bd3786"
             ],
             [
              0.5555555555555556,
              "#d8576b"
             ],
             [
              0.6666666666666666,
              "#ed7953"
             ],
             [
              0.7777777777777778,
              "#fb9f3a"
             ],
             [
              0.8888888888888888,
              "#fdca26"
             ],
             [
              1,
              "#f0f921"
             ]
            ],
            "type": "heatmapgl"
           }
          ],
          "histogram": [
           {
            "marker": {
             "pattern": {
              "fillmode": "overlay",
              "size": 10,
              "solidity": 0.2
             }
            },
            "type": "histogram"
           }
          ],
          "histogram2d": [
           {
            "colorbar": {
             "outlinewidth": 0,
             "ticks": ""
            },
            "colorscale": [
             [
              0,
              "#0d0887"
             ],
             [
              0.1111111111111111,
              "#46039f"
             ],
             [
              0.2222222222222222,
              "#7201a8"
             ],
             [
              0.3333333333333333,
              "#9c179e"
             ],
             [
              0.4444444444444444,
              "#bd3786"
             ],
             [
              0.5555555555555556,
              "#d8576b"
             ],
             [
              0.6666666666666666,
              "#ed7953"
             ],
             [
              0.7777777777777778,
              "#fb9f3a"
             ],
             [
              0.8888888888888888,
              "#fdca26"
             ],
             [
              1,
              "#f0f921"
             ]
            ],
            "type": "histogram2d"
           }
          ],
          "histogram2dcontour": [
           {
            "colorbar": {
             "outlinewidth": 0,
             "ticks": ""
            },
            "colorscale": [
             [
              0,
              "#0d0887"
             ],
             [
              0.1111111111111111,
              "#46039f"
             ],
             [
              0.2222222222222222,
              "#7201a8"
             ],
             [
              0.3333333333333333,
              "#9c179e"
             ],
             [
              0.4444444444444444,
              "#bd3786"
             ],
             [
              0.5555555555555556,
              "#d8576b"
             ],
             [
              0.6666666666666666,
              "#ed7953"
             ],
             [
              0.7777777777777778,
              "#fb9f3a"
             ],
             [
              0.8888888888888888,
              "#fdca26"
             ],
             [
              1,
              "#f0f921"
             ]
            ],
            "type": "histogram2dcontour"
           }
          ],
          "mesh3d": [
           {
            "colorbar": {
             "outlinewidth": 0,
             "ticks": ""
            },
            "type": "mesh3d"
           }
          ],
          "parcoords": [
           {
            "line": {
             "colorbar": {
              "outlinewidth": 0,
              "ticks": ""
             }
            },
            "type": "parcoords"
           }
          ],
          "pie": [
           {
            "automargin": true,
            "type": "pie"
           }
          ],
          "scatter": [
           {
            "fillpattern": {
             "fillmode": "overlay",
             "size": 10,
             "solidity": 0.2
            },
            "type": "scatter"
           }
          ],
          "scatter3d": [
           {
            "line": {
             "colorbar": {
              "outlinewidth": 0,
              "ticks": ""
             }
            },
            "marker": {
             "colorbar": {
              "outlinewidth": 0,
              "ticks": ""
             }
            },
            "type": "scatter3d"
           }
          ],
          "scattercarpet": [
           {
            "marker": {
             "colorbar": {
              "outlinewidth": 0,
              "ticks": ""
             }
            },
            "type": "scattercarpet"
           }
          ],
          "scattergeo": [
           {
            "marker": {
             "colorbar": {
              "outlinewidth": 0,
              "ticks": ""
             }
            },
            "type": "scattergeo"
           }
          ],
          "scattergl": [
           {
            "marker": {
             "colorbar": {
              "outlinewidth": 0,
              "ticks": ""
             }
            },
            "type": "scattergl"
           }
          ],
          "scattermapbox": [
           {
            "marker": {
             "colorbar": {
              "outlinewidth": 0,
              "ticks": ""
             }
            },
            "type": "scattermapbox"
           }
          ],
          "scatterpolar": [
           {
            "marker": {
             "colorbar": {
              "outlinewidth": 0,
              "ticks": ""
             }
            },
            "type": "scatterpolar"
           }
          ],
          "scatterpolargl": [
           {
            "marker": {
             "colorbar": {
              "outlinewidth": 0,
              "ticks": ""
             }
            },
            "type": "scatterpolargl"
           }
          ],
          "scatterternary": [
           {
            "marker": {
             "colorbar": {
              "outlinewidth": 0,
              "ticks": ""
             }
            },
            "type": "scatterternary"
           }
          ],
          "surface": [
           {
            "colorbar": {
             "outlinewidth": 0,
             "ticks": ""
            },
            "colorscale": [
             [
              0,
              "#0d0887"
             ],
             [
              0.1111111111111111,
              "#46039f"
             ],
             [
              0.2222222222222222,
              "#7201a8"
             ],
             [
              0.3333333333333333,
              "#9c179e"
             ],
             [
              0.4444444444444444,
              "#bd3786"
             ],
             [
              0.5555555555555556,
              "#d8576b"
             ],
             [
              0.6666666666666666,
              "#ed7953"
             ],
             [
              0.7777777777777778,
              "#fb9f3a"
             ],
             [
              0.8888888888888888,
              "#fdca26"
             ],
             [
              1,
              "#f0f921"
             ]
            ],
            "type": "surface"
           }
          ],
          "table": [
           {
            "cells": {
             "fill": {
              "color": "#EBF0F8"
             },
             "line": {
              "color": "white"
             }
            },
            "header": {
             "fill": {
              "color": "#C8D4E3"
             },
             "line": {
              "color": "white"
             }
            },
            "type": "table"
           }
          ]
         },
         "layout": {
          "annotationdefaults": {
           "arrowcolor": "#2a3f5f",
           "arrowhead": 0,
           "arrowwidth": 1
          },
          "autotypenumbers": "strict",
          "coloraxis": {
           "colorbar": {
            "outlinewidth": 0,
            "ticks": ""
           }
          },
          "colorscale": {
           "diverging": [
            [
             0,
             "#8e0152"
            ],
            [
             0.1,
             "#c51b7d"
            ],
            [
             0.2,
             "#de77ae"
            ],
            [
             0.3,
             "#f1b6da"
            ],
            [
             0.4,
             "#fde0ef"
            ],
            [
             0.5,
             "#f7f7f7"
            ],
            [
             0.6,
             "#e6f5d0"
            ],
            [
             0.7,
             "#b8e186"
            ],
            [
             0.8,
             "#7fbc41"
            ],
            [
             0.9,
             "#4d9221"
            ],
            [
             1,
             "#276419"
            ]
           ],
           "sequential": [
            [
             0,
             "#0d0887"
            ],
            [
             0.1111111111111111,
             "#46039f"
            ],
            [
             0.2222222222222222,
             "#7201a8"
            ],
            [
             0.3333333333333333,
             "#9c179e"
            ],
            [
             0.4444444444444444,
             "#bd3786"
            ],
            [
             0.5555555555555556,
             "#d8576b"
            ],
            [
             0.6666666666666666,
             "#ed7953"
            ],
            [
             0.7777777777777778,
             "#fb9f3a"
            ],
            [
             0.8888888888888888,
             "#fdca26"
            ],
            [
             1,
             "#f0f921"
            ]
           ],
           "sequentialminus": [
            [
             0,
             "#0d0887"
            ],
            [
             0.1111111111111111,
             "#46039f"
            ],
            [
             0.2222222222222222,
             "#7201a8"
            ],
            [
             0.3333333333333333,
             "#9c179e"
            ],
            [
             0.4444444444444444,
             "#bd3786"
            ],
            [
             0.5555555555555556,
             "#d8576b"
            ],
            [
             0.6666666666666666,
             "#ed7953"
            ],
            [
             0.7777777777777778,
             "#fb9f3a"
            ],
            [
             0.8888888888888888,
             "#fdca26"
            ],
            [
             1,
             "#f0f921"
            ]
           ]
          },
          "colorway": [
           "#636efa",
           "#EF553B",
           "#00cc96",
           "#ab63fa",
           "#FFA15A",
           "#19d3f3",
           "#FF6692",
           "#B6E880",
           "#FF97FF",
           "#FECB52"
          ],
          "font": {
           "color": "#2a3f5f"
          },
          "geo": {
           "bgcolor": "white",
           "lakecolor": "white",
           "landcolor": "#E5ECF6",
           "showlakes": true,
           "showland": true,
           "subunitcolor": "white"
          },
          "hoverlabel": {
           "align": "left"
          },
          "hovermode": "closest",
          "mapbox": {
           "style": "light"
          },
          "paper_bgcolor": "white",
          "plot_bgcolor": "#E5ECF6",
          "polar": {
           "angularaxis": {
            "gridcolor": "white",
            "linecolor": "white",
            "ticks": ""
           },
           "bgcolor": "#E5ECF6",
           "radialaxis": {
            "gridcolor": "white",
            "linecolor": "white",
            "ticks": ""
           }
          },
          "scene": {
           "xaxis": {
            "backgroundcolor": "#E5ECF6",
            "gridcolor": "white",
            "gridwidth": 2,
            "linecolor": "white",
            "showbackground": true,
            "ticks": "",
            "zerolinecolor": "white"
           },
           "yaxis": {
            "backgroundcolor": "#E5ECF6",
            "gridcolor": "white",
            "gridwidth": 2,
            "linecolor": "white",
            "showbackground": true,
            "ticks": "",
            "zerolinecolor": "white"
           },
           "zaxis": {
            "backgroundcolor": "#E5ECF6",
            "gridcolor": "white",
            "gridwidth": 2,
            "linecolor": "white",
            "showbackground": true,
            "ticks": "",
            "zerolinecolor": "white"
           }
          },
          "shapedefaults": {
           "line": {
            "color": "#2a3f5f"
           }
          },
          "ternary": {
           "aaxis": {
            "gridcolor": "white",
            "linecolor": "white",
            "ticks": ""
           },
           "baxis": {
            "gridcolor": "white",
            "linecolor": "white",
            "ticks": ""
           },
           "bgcolor": "#E5ECF6",
           "caxis": {
            "gridcolor": "white",
            "linecolor": "white",
            "ticks": ""
           }
          },
          "title": {
           "x": 0.05
          },
          "xaxis": {
           "automargin": true,
           "gridcolor": "white",
           "linecolor": "white",
           "ticks": "",
           "title": {
            "standoff": 15
           },
           "zerolinecolor": "white",
           "zerolinewidth": 2
          },
          "yaxis": {
           "automargin": true,
           "gridcolor": "white",
           "linecolor": "white",
           "ticks": "",
           "title": {
            "standoff": 15
           },
           "zerolinecolor": "white",
           "zerolinewidth": 2
          }
         }
        },
        "title": {
         "text": "Output bitstring occurrences and trap results per noise level p"
        },
        "updatemenus": [
         {
          "buttons": [
           {
            "args": [
             {
              "visible": [
               true,
               true,
               false,
               false,
               false,
               false,
               false,
               false,
               false,
               false,
               false,
               false
              ]
             }
            ],
            "label": "p= 0",
            "method": "update"
           },
           {
            "args": [
             {
              "visible": [
               false,
               false,
               true,
               true,
               false,
               false,
               false,
               false,
               false,
               false,
               false,
               false
              ]
             }
            ],
            "label": "p= 0.1",
            "method": "update"
           },
           {
            "args": [
             {
              "visible": [
               false,
               false,
               false,
               false,
               true,
               true,
               false,
               false,
               false,
               false,
               false,
               false
              ]
             }
            ],
            "label": "p= 0.15",
            "method": "update"
           },
           {
            "args": [
             {
              "visible": [
               false,
               false,
               false,
               false,
               false,
               false,
               true,
               true,
               false,
               false,
               false,
               false
              ]
             }
            ],
            "label": "p= 0.2",
            "method": "update"
           },
           {
            "args": [
             {
              "visible": [
               false,
               false,
               false,
               false,
               false,
               false,
               false,
               false,
               true,
               true,
               false,
               false
              ]
             }
            ],
            "label": "p= 0.5",
            "method": "update"
           },
           {
            "args": [
             {
              "visible": [
               false,
               false,
               false,
               false,
               false,
               false,
               false,
               false,
               false,
               false,
               true,
               true
              ]
             }
            ],
            "label": "p= 1",
            "method": "update"
           },
           {
            "args": [
             {
              "visible": [
               true,
               true,
               true,
               true,
               true,
               true,
               true,
               true,
               true,
               true,
               true,
               true
              ]
             }
            ],
            "label": "Show All",
            "method": "update"
           }
          ],
          "direction": "right",
          "type": "buttons",
          "x": 0.5,
          "xanchor": "center",
          "y": 1.15
         }
        ],
        "xaxis": {
         "anchor": "y",
         "domain": [
          0,
          0.63
         ]
        },
        "yaxis": {
         "anchor": "x",
         "domain": [
          0,
          1
         ]
        }
       }
      }
     },
     "metadata": {},
     "output_type": "display_data"
    }
   ],
   "source": [
    "import plotly.graph_objects as go\n",
    "from plotly.subplots import make_subplots\n",
    "\n",
    "\n",
    "# Function to get color based on p value\n",
    "def get_heatmap_color(p, colormap_name=\"coolwarm\", vmin=0.1, vmax=1):\n",
    "    colormap = cm.get_cmap(colormap_name)\n",
    "    norm = LogNorm(vmin=vmin, vmax=vmax)  # Normalize p within [vmin, vmax]\n",
    "    return to_hex(colormap(norm(p)))  # Convert to hex color for Plotly\n",
    "\n",
    "\n",
    "# Initialize the figure with subplots\n",
    "fig = make_subplots(\n",
    "    rows=1,\n",
    "    cols=2,\n",
    "    column_widths=[0.7, 0.3],\n",
    "    subplot_titles=(\"Output Bitstring Occurrences\", \"Failed/Passed Traps\"),\n",
    "    specs=[[{\"type\": \"bar\"}, {\"type\": \"pie\"}]],\n",
    ")\n",
    "\n",
    "# Store the p values in a list to access them by index in buttons\n",
    "p_values = list(all_histograms.keys())\n",
    "\n",
    "# Add bar charts and pie charts for different 'p' values\n",
    "colors = [\"#EF553B\", \"#a5ff33\"]  # Red for 'Failed traps', Green for 'Passed traps'\n",
    "\n",
    "for _idx, (p, histogram) in enumerate(all_histograms.items()):\n",
    "    frequencies = [histogram.get(outcome, 0) for outcome in all_outcomes]\n",
    "\n",
    "    # Get colors for each bar based on the current p value\n",
    "    bar_colors = [get_heatmap_color(p + 0.1) for _ in all_outcomes]\n",
    "\n",
    "    # Bar chart\n",
    "    fig.add_trace(\n",
    "        go.Bar(\n",
    "            x=all_outcomes,\n",
    "            y=frequencies,\n",
    "            name=f\"p={p}\",  # Legend label\n",
    "            marker=dict(color=bar_colors),  # Apply custom colors\n",
    "            visible=(p == p_values[0]),  # Only the first p is visible by default\n",
    "        ),\n",
    "        row=1,\n",
    "        col=1,\n",
    "    )\n",
    "\n",
    "    # Pie chart\n",
    "    failed_value = failed_traps_histograms.get(p, 0)  # Fetch failed traps for current p\n",
    "    fig.add_trace(\n",
    "        go.Pie(\n",
    "            labels=[\"Failed traps\", \"Passed traps\"],\n",
    "            values=[failed_value, 1 - failed_value],\n",
    "            marker=dict(colors=colors),\n",
    "            name=f\"p={p}\",\n",
    "            visible=(p == p_values[0]),\n",
    "        ),\n",
    "        row=1,\n",
    "        col=2,\n",
    "    )\n",
    "\n",
    "# Update layout with buttons\n",
    "fig.update_layout(\n",
    "    title=\"Output bitstring occurrences and trap results per noise level p\",\n",
    "    updatemenus=[\n",
    "        {\n",
    "            \"type\": \"buttons\",\n",
    "            \"direction\": \"right\",\n",
    "            \"x\": 0.5,\n",
    "            \"y\": 1.15,\n",
    "            \"xanchor\": \"center\",\n",
    "            \"buttons\": [\n",
    "                {\n",
    "                    \"label\": f\"p= {key}\",\n",
    "                    \"method\": \"update\",\n",
    "                    \"args\": [{\"visible\": [(i // 2 == idx) for i in range(2 * len(all_histograms))]}],\n",
    "                }\n",
    "                for idx, key in enumerate(all_histograms)\n",
    "            ]\n",
    "            + [{\"label\": \"Show All\", \"method\": \"update\", \"args\": [{\"visible\": [True] * (2 * len(all_histograms))}]}],\n",
    "        }\n",
    "    ],\n",
    ")\n",
    "\n",
    "fig.show()"
   ]
  },
  {
   "cell_type": "code",
   "execution_count": 8,
   "metadata": {},
   "outputs": [
    {
     "name": "stderr",
     "output_type": "stream",
     "text": [
      "/var/folders/n5/hv7xz3zn675bw8ckw4q5ll3cmp3czq/T/ipykernel_28784/2457274934.py:8: MatplotlibDeprecationWarning:\n",
      "\n",
      "The get_cmap function was deprecated in Matplotlib 3.7 and will be removed in 3.11. Use ``matplotlib.colormaps[name]`` or ``matplotlib.colormaps.get_cmap()`` or ``pyplot.get_cmap()`` instead.\n",
      "\n"
     ]
    },
    {
     "data": {
      "application/vnd.plotly.v1+json": {
       "config": {
        "plotlyServerURL": "https://plot.ly"
       },
       "data": [
        {
         "marker": {
          "color": [
           "#3b4cc0",
           "#3b4cc0",
           "#3b4cc0",
           "#3b4cc0"
          ]
         },
         "name": "Bitstrings (p=0)",
         "type": "bar",
         "x": [
          "00",
          "01",
          "10",
          "11"
         ],
         "xaxis": "x",
         "y": [
          50,
          0,
          0,
          0
         ],
         "yaxis": "y"
        },
        {
         "domain": {
          "x": [
           0.716,
           0.98
          ],
          "y": [
           0.875,
           1
          ]
         },
         "labels": [
          "Failed traps",
          "Passed traps"
         ],
         "marker": {
          "colors": [
           "#EF553B",
           "#a5ff33"
          ]
         },
         "name": "Traps (p=0)",
         "type": "pie",
         "values": [
          0,
          1
         ]
        },
        {
         "marker": {
          "color": [
           "#9fbfff",
           "#9fbfff",
           "#9fbfff",
           "#9fbfff"
          ]
         },
         "name": "Bitstrings (p=0.1)",
         "type": "bar",
         "x": [
          "00",
          "01",
          "10",
          "11"
         ],
         "xaxis": "x2",
         "y": [
          40,
          6,
          3,
          1
         ],
         "yaxis": "y2"
        },
        {
         "domain": {
          "x": [
           0.716,
           0.98
          ],
          "y": [
           0.7,
           0.825
          ]
         },
         "labels": [
          "Failed traps",
          "Passed traps"
         ],
         "marker": {
          "colors": [
           "#EF553B",
           "#a5ff33"
          ]
         },
         "name": "Traps (p=0.1)",
         "type": "pie",
         "values": [
          0.28,
          0.72
         ]
        },
        {
         "marker": {
          "color": [
           "#bfd3f6",
           "#bfd3f6",
           "#bfd3f6",
           "#bfd3f6"
          ]
         },
         "name": "Bitstrings (p=0.15)",
         "type": "bar",
         "x": [
          "00",
          "01",
          "10",
          "11"
         ],
         "xaxis": "x3",
         "y": [
          27,
          10,
          7,
          6
         ],
         "yaxis": "y3"
        },
        {
         "domain": {
          "x": [
           0.716,
           0.98
          ],
          "y": [
           0.525,
           0.65
          ]
         },
         "labels": [
          "Failed traps",
          "Passed traps"
         ],
         "marker": {
          "colors": [
           "#EF553B",
           "#a5ff33"
          ]
         },
         "name": "Traps (p=0.15)",
         "type": "pie",
         "values": [
          0.34,
          0.6599999999999999
         ]
        },
        {
         "marker": {
          "color": [
           "#d7dce3",
           "#d7dce3",
           "#d7dce3",
           "#d7dce3"
          ]
         },
         "name": "Bitstrings (p=0.2)",
         "type": "bar",
         "x": [
          "00",
          "01",
          "10",
          "11"
         ],
         "xaxis": "x4",
         "y": [
          24,
          10,
          10,
          6
         ],
         "yaxis": "y4"
        },
        {
         "domain": {
          "x": [
           0.716,
           0.98
          ],
          "y": [
           0.35,
           0.475
          ]
         },
         "labels": [
          "Failed traps",
          "Passed traps"
         ],
         "marker": {
          "colors": [
           "#EF553B",
           "#a5ff33"
          ]
         },
         "name": "Traps (p=0.2)",
         "type": "pie",
         "values": [
          0.58,
          0.42
         ]
        },
        {
         "marker": {
          "color": [
           "#f18d6f",
           "#f18d6f",
           "#f18d6f",
           "#f18d6f"
          ]
         },
         "name": "Bitstrings (p=0.5)",
         "type": "bar",
         "x": [
          "00",
          "01",
          "10",
          "11"
         ],
         "xaxis": "x5",
         "y": [
          12,
          12,
          14,
          12
         ],
         "yaxis": "y5"
        },
        {
         "domain": {
          "x": [
           0.716,
           0.98
          ],
          "y": [
           0.175,
           0.3
          ]
         },
         "labels": [
          "Failed traps",
          "Passed traps"
         ],
         "marker": {
          "colors": [
           "#EF553B",
           "#a5ff33"
          ]
         },
         "name": "Traps (p=0.5)",
         "type": "pie",
         "values": [
          0.78,
          0.21999999999999997
         ]
        },
        {
         "marker": {
          "color": [
           "#b40426",
           "#b40426",
           "#b40426",
           "#b40426"
          ]
         },
         "name": "Bitstrings (p=1)",
         "type": "bar",
         "x": [
          "00",
          "01",
          "10",
          "11"
         ],
         "xaxis": "x6",
         "y": [
          19,
          11,
          13,
          7
         ],
         "yaxis": "y6"
        },
        {
         "domain": {
          "x": [
           0.716,
           0.98
          ],
          "y": [
           0,
           0.125
          ]
         },
         "labels": [
          "Failed traps",
          "Passed traps"
         ],
         "marker": {
          "colors": [
           "#EF553B",
           "#a5ff33"
          ]
         },
         "name": "Traps (p=1)",
         "type": "pie",
         "values": [
          0.84,
          0.16000000000000003
         ]
        }
       ],
       "layout": {
        "annotations": [
         {
          "font": {
           "size": 16
          },
          "showarrow": false,
          "text": "Output Bitstring Occurrences",
          "x": 0.308,
          "xanchor": "center",
          "xref": "paper",
          "y": 1,
          "yanchor": "bottom",
          "yref": "paper"
         },
         {
          "font": {
           "size": 16
          },
          "showarrow": false,
          "text": "Failed/Passed Traps",
          "x": 0.848,
          "xanchor": "center",
          "xref": "paper",
          "y": 1,
          "yanchor": "bottom",
          "yref": "paper"
         },
         {
          "font": {
           "size": 16
          },
          "showarrow": false,
          "text": "Output Bitstring Occurrences",
          "x": 0.308,
          "xanchor": "center",
          "xref": "paper",
          "y": 0.825,
          "yanchor": "bottom",
          "yref": "paper"
         },
         {
          "font": {
           "size": 16
          },
          "showarrow": false,
          "text": "Failed/Passed Traps",
          "x": 0.848,
          "xanchor": "center",
          "xref": "paper",
          "y": 0.825,
          "yanchor": "bottom",
          "yref": "paper"
         },
         {
          "font": {
           "size": 16
          },
          "showarrow": false,
          "text": "Output Bitstring Occurrences",
          "x": 0.308,
          "xanchor": "center",
          "xref": "paper",
          "y": 0.65,
          "yanchor": "bottom",
          "yref": "paper"
         },
         {
          "font": {
           "size": 16
          },
          "showarrow": false,
          "text": "Failed/Passed Traps",
          "x": 0.848,
          "xanchor": "center",
          "xref": "paper",
          "y": 0.65,
          "yanchor": "bottom",
          "yref": "paper"
         },
         {
          "font": {
           "size": 16
          },
          "showarrow": false,
          "text": "Output Bitstring Occurrences",
          "x": 0.308,
          "xanchor": "center",
          "xref": "paper",
          "y": 0.475,
          "yanchor": "bottom",
          "yref": "paper"
         },
         {
          "font": {
           "size": 16
          },
          "showarrow": false,
          "text": "Failed/Passed Traps",
          "x": 0.848,
          "xanchor": "center",
          "xref": "paper",
          "y": 0.475,
          "yanchor": "bottom",
          "yref": "paper"
         },
         {
          "font": {
           "size": 16
          },
          "showarrow": false,
          "text": "Output Bitstring Occurrences",
          "x": 0.308,
          "xanchor": "center",
          "xref": "paper",
          "y": 0.3,
          "yanchor": "bottom",
          "yref": "paper"
         },
         {
          "font": {
           "size": 16
          },
          "showarrow": false,
          "text": "Failed/Passed Traps",
          "x": 0.848,
          "xanchor": "center",
          "xref": "paper",
          "y": 0.3,
          "yanchor": "bottom",
          "yref": "paper"
         },
         {
          "font": {
           "size": 16
          },
          "showarrow": false,
          "text": "Output Bitstring Occurrences",
          "x": 0.308,
          "xanchor": "center",
          "xref": "paper",
          "y": 0.125,
          "yanchor": "bottom",
          "yref": "paper"
         },
         {
          "font": {
           "size": 16
          },
          "showarrow": false,
          "text": "Failed/Passed Traps",
          "x": 0.848,
          "xanchor": "center",
          "xref": "paper",
          "y": 0.125,
          "yanchor": "bottom",
          "yref": "paper"
         },
         {
          "font": {
           "size": 16
          },
          "showarrow": false,
          "text": "p=0",
          "textangle": 90,
          "x": 0.98,
          "xanchor": "left",
          "xref": "paper",
          "y": 0.9375,
          "yanchor": "middle",
          "yref": "paper"
         },
         {
          "font": {
           "size": 16
          },
          "showarrow": false,
          "text": "p=0.1",
          "textangle": 90,
          "x": 0.98,
          "xanchor": "left",
          "xref": "paper",
          "y": 0.7625,
          "yanchor": "middle",
          "yref": "paper"
         },
         {
          "font": {
           "size": 16
          },
          "showarrow": false,
          "text": "p=0.15",
          "textangle": 90,
          "x": 0.98,
          "xanchor": "left",
          "xref": "paper",
          "y": 0.5875,
          "yanchor": "middle",
          "yref": "paper"
         },
         {
          "font": {
           "size": 16
          },
          "showarrow": false,
          "text": "p=0.2",
          "textangle": 90,
          "x": 0.98,
          "xanchor": "left",
          "xref": "paper",
          "y": 0.4125,
          "yanchor": "middle",
          "yref": "paper"
         },
         {
          "font": {
           "size": 16
          },
          "showarrow": false,
          "text": "p=0.5",
          "textangle": 90,
          "x": 0.98,
          "xanchor": "left",
          "xref": "paper",
          "y": 0.2375,
          "yanchor": "middle",
          "yref": "paper"
         },
         {
          "font": {
           "size": 16
          },
          "showarrow": false,
          "text": "p=1",
          "textangle": 90,
          "x": 0.98,
          "xanchor": "left",
          "xref": "paper",
          "y": 0.0625,
          "yanchor": "middle",
          "yref": "paper"
         }
        ],
        "height": 2400,
        "showlegend": false,
        "template": {
         "data": {
          "bar": [
           {
            "error_x": {
             "color": "#2a3f5f"
            },
            "error_y": {
             "color": "#2a3f5f"
            },
            "marker": {
             "line": {
              "color": "#E5ECF6",
              "width": 0.5
             },
             "pattern": {
              "fillmode": "overlay",
              "size": 10,
              "solidity": 0.2
             }
            },
            "type": "bar"
           }
          ],
          "barpolar": [
           {
            "marker": {
             "line": {
              "color": "#E5ECF6",
              "width": 0.5
             },
             "pattern": {
              "fillmode": "overlay",
              "size": 10,
              "solidity": 0.2
             }
            },
            "type": "barpolar"
           }
          ],
          "carpet": [
           {
            "aaxis": {
             "endlinecolor": "#2a3f5f",
             "gridcolor": "white",
             "linecolor": "white",
             "minorgridcolor": "white",
             "startlinecolor": "#2a3f5f"
            },
            "baxis": {
             "endlinecolor": "#2a3f5f",
             "gridcolor": "white",
             "linecolor": "white",
             "minorgridcolor": "white",
             "startlinecolor": "#2a3f5f"
            },
            "type": "carpet"
           }
          ],
          "choropleth": [
           {
            "colorbar": {
             "outlinewidth": 0,
             "ticks": ""
            },
            "type": "choropleth"
           }
          ],
          "contour": [
           {
            "colorbar": {
             "outlinewidth": 0,
             "ticks": ""
            },
            "colorscale": [
             [
              0,
              "#0d0887"
             ],
             [
              0.1111111111111111,
              "#46039f"
             ],
             [
              0.2222222222222222,
              "#7201a8"
             ],
             [
              0.3333333333333333,
              "#9c179e"
             ],
             [
              0.4444444444444444,
              "#bd3786"
             ],
             [
              0.5555555555555556,
              "#d8576b"
             ],
             [
              0.6666666666666666,
              "#ed7953"
             ],
             [
              0.7777777777777778,
              "#fb9f3a"
             ],
             [
              0.8888888888888888,
              "#fdca26"
             ],
             [
              1,
              "#f0f921"
             ]
            ],
            "type": "contour"
           }
          ],
          "contourcarpet": [
           {
            "colorbar": {
             "outlinewidth": 0,
             "ticks": ""
            },
            "type": "contourcarpet"
           }
          ],
          "heatmap": [
           {
            "colorbar": {
             "outlinewidth": 0,
             "ticks": ""
            },
            "colorscale": [
             [
              0,
              "#0d0887"
             ],
             [
              0.1111111111111111,
              "#46039f"
             ],
             [
              0.2222222222222222,
              "#7201a8"
             ],
             [
              0.3333333333333333,
              "#9c179e"
             ],
             [
              0.4444444444444444,
              "#bd3786"
             ],
             [
              0.5555555555555556,
              "#d8576b"
             ],
             [
              0.6666666666666666,
              "#ed7953"
             ],
             [
              0.7777777777777778,
              "#fb9f3a"
             ],
             [
              0.8888888888888888,
              "#fdca26"
             ],
             [
              1,
              "#f0f921"
             ]
            ],
            "type": "heatmap"
           }
          ],
          "heatmapgl": [
           {
            "colorbar": {
             "outlinewidth": 0,
             "ticks": ""
            },
            "colorscale": [
             [
              0,
              "#0d0887"
             ],
             [
              0.1111111111111111,
              "#46039f"
             ],
             [
              0.2222222222222222,
              "#7201a8"
             ],
             [
              0.3333333333333333,
              "#9c179e"
             ],
             [
              0.4444444444444444,
              "#bd3786"
             ],
             [
              0.5555555555555556,
              "#d8576b"
             ],
             [
              0.6666666666666666,
              "#ed7953"
             ],
             [
              0.7777777777777778,
              "#fb9f3a"
             ],
             [
              0.8888888888888888,
              "#fdca26"
             ],
             [
              1,
              "#f0f921"
             ]
            ],
            "type": "heatmapgl"
           }
          ],
          "histogram": [
           {
            "marker": {
             "pattern": {
              "fillmode": "overlay",
              "size": 10,
              "solidity": 0.2
             }
            },
            "type": "histogram"
           }
          ],
          "histogram2d": [
           {
            "colorbar": {
             "outlinewidth": 0,
             "ticks": ""
            },
            "colorscale": [
             [
              0,
              "#0d0887"
             ],
             [
              0.1111111111111111,
              "#46039f"
             ],
             [
              0.2222222222222222,
              "#7201a8"
             ],
             [
              0.3333333333333333,
              "#9c179e"
             ],
             [
              0.4444444444444444,
              "#bd3786"
             ],
             [
              0.5555555555555556,
              "#d8576b"
             ],
             [
              0.6666666666666666,
              "#ed7953"
             ],
             [
              0.7777777777777778,
              "#fb9f3a"
             ],
             [
              0.8888888888888888,
              "#fdca26"
             ],
             [
              1,
              "#f0f921"
             ]
            ],
            "type": "histogram2d"
           }
          ],
          "histogram2dcontour": [
           {
            "colorbar": {
             "outlinewidth": 0,
             "ticks": ""
            },
            "colorscale": [
             [
              0,
              "#0d0887"
             ],
             [
              0.1111111111111111,
              "#46039f"
             ],
             [
              0.2222222222222222,
              "#7201a8"
             ],
             [
              0.3333333333333333,
              "#9c179e"
             ],
             [
              0.4444444444444444,
              "#bd3786"
             ],
             [
              0.5555555555555556,
              "#d8576b"
             ],
             [
              0.6666666666666666,
              "#ed7953"
             ],
             [
              0.7777777777777778,
              "#fb9f3a"
             ],
             [
              0.8888888888888888,
              "#fdca26"
             ],
             [
              1,
              "#f0f921"
             ]
            ],
            "type": "histogram2dcontour"
           }
          ],
          "mesh3d": [
           {
            "colorbar": {
             "outlinewidth": 0,
             "ticks": ""
            },
            "type": "mesh3d"
           }
          ],
          "parcoords": [
           {
            "line": {
             "colorbar": {
              "outlinewidth": 0,
              "ticks": ""
             }
            },
            "type": "parcoords"
           }
          ],
          "pie": [
           {
            "automargin": true,
            "type": "pie"
           }
          ],
          "scatter": [
           {
            "fillpattern": {
             "fillmode": "overlay",
             "size": 10,
             "solidity": 0.2
            },
            "type": "scatter"
           }
          ],
          "scatter3d": [
           {
            "line": {
             "colorbar": {
              "outlinewidth": 0,
              "ticks": ""
             }
            },
            "marker": {
             "colorbar": {
              "outlinewidth": 0,
              "ticks": ""
             }
            },
            "type": "scatter3d"
           }
          ],
          "scattercarpet": [
           {
            "marker": {
             "colorbar": {
              "outlinewidth": 0,
              "ticks": ""
             }
            },
            "type": "scattercarpet"
           }
          ],
          "scattergeo": [
           {
            "marker": {
             "colorbar": {
              "outlinewidth": 0,
              "ticks": ""
             }
            },
            "type": "scattergeo"
           }
          ],
          "scattergl": [
           {
            "marker": {
             "colorbar": {
              "outlinewidth": 0,
              "ticks": ""
             }
            },
            "type": "scattergl"
           }
          ],
          "scattermapbox": [
           {
            "marker": {
             "colorbar": {
              "outlinewidth": 0,
              "ticks": ""
             }
            },
            "type": "scattermapbox"
           }
          ],
          "scatterpolar": [
           {
            "marker": {
             "colorbar": {
              "outlinewidth": 0,
              "ticks": ""
             }
            },
            "type": "scatterpolar"
           }
          ],
          "scatterpolargl": [
           {
            "marker": {
             "colorbar": {
              "outlinewidth": 0,
              "ticks": ""
             }
            },
            "type": "scatterpolargl"
           }
          ],
          "scatterternary": [
           {
            "marker": {
             "colorbar": {
              "outlinewidth": 0,
              "ticks": ""
             }
            },
            "type": "scatterternary"
           }
          ],
          "surface": [
           {
            "colorbar": {
             "outlinewidth": 0,
             "ticks": ""
            },
            "colorscale": [
             [
              0,
              "#0d0887"
             ],
             [
              0.1111111111111111,
              "#46039f"
             ],
             [
              0.2222222222222222,
              "#7201a8"
             ],
             [
              0.3333333333333333,
              "#9c179e"
             ],
             [
              0.4444444444444444,
              "#bd3786"
             ],
             [
              0.5555555555555556,
              "#d8576b"
             ],
             [
              0.6666666666666666,
              "#ed7953"
             ],
             [
              0.7777777777777778,
              "#fb9f3a"
             ],
             [
              0.8888888888888888,
              "#fdca26"
             ],
             [
              1,
              "#f0f921"
             ]
            ],
            "type": "surface"
           }
          ],
          "table": [
           {
            "cells": {
             "fill": {
              "color": "#EBF0F8"
             },
             "line": {
              "color": "white"
             }
            },
            "header": {
             "fill": {
              "color": "#C8D4E3"
             },
             "line": {
              "color": "white"
             }
            },
            "type": "table"
           }
          ]
         },
         "layout": {
          "annotationdefaults": {
           "arrowcolor": "#2a3f5f",
           "arrowhead": 0,
           "arrowwidth": 1
          },
          "autotypenumbers": "strict",
          "coloraxis": {
           "colorbar": {
            "outlinewidth": 0,
            "ticks": ""
           }
          },
          "colorscale": {
           "diverging": [
            [
             0,
             "#8e0152"
            ],
            [
             0.1,
             "#c51b7d"
            ],
            [
             0.2,
             "#de77ae"
            ],
            [
             0.3,
             "#f1b6da"
            ],
            [
             0.4,
             "#fde0ef"
            ],
            [
             0.5,
             "#f7f7f7"
            ],
            [
             0.6,
             "#e6f5d0"
            ],
            [
             0.7,
             "#b8e186"
            ],
            [
             0.8,
             "#7fbc41"
            ],
            [
             0.9,
             "#4d9221"
            ],
            [
             1,
             "#276419"
            ]
           ],
           "sequential": [
            [
             0,
             "#0d0887"
            ],
            [
             0.1111111111111111,
             "#46039f"
            ],
            [
             0.2222222222222222,
             "#7201a8"
            ],
            [
             0.3333333333333333,
             "#9c179e"
            ],
            [
             0.4444444444444444,
             "#bd3786"
            ],
            [
             0.5555555555555556,
             "#d8576b"
            ],
            [
             0.6666666666666666,
             "#ed7953"
            ],
            [
             0.7777777777777778,
             "#fb9f3a"
            ],
            [
             0.8888888888888888,
             "#fdca26"
            ],
            [
             1,
             "#f0f921"
            ]
           ],
           "sequentialminus": [
            [
             0,
             "#0d0887"
            ],
            [
             0.1111111111111111,
             "#46039f"
            ],
            [
             0.2222222222222222,
             "#7201a8"
            ],
            [
             0.3333333333333333,
             "#9c179e"
            ],
            [
             0.4444444444444444,
             "#bd3786"
            ],
            [
             0.5555555555555556,
             "#d8576b"
            ],
            [
             0.6666666666666666,
             "#ed7953"
            ],
            [
             0.7777777777777778,
             "#fb9f3a"
            ],
            [
             0.8888888888888888,
             "#fdca26"
            ],
            [
             1,
             "#f0f921"
            ]
           ]
          },
          "colorway": [
           "#636efa",
           "#EF553B",
           "#00cc96",
           "#ab63fa",
           "#FFA15A",
           "#19d3f3",
           "#FF6692",
           "#B6E880",
           "#FF97FF",
           "#FECB52"
          ],
          "font": {
           "color": "#2a3f5f"
          },
          "geo": {
           "bgcolor": "white",
           "lakecolor": "white",
           "landcolor": "#E5ECF6",
           "showlakes": true,
           "showland": true,
           "subunitcolor": "white"
          },
          "hoverlabel": {
           "align": "left"
          },
          "hovermode": "closest",
          "mapbox": {
           "style": "light"
          },
          "paper_bgcolor": "white",
          "plot_bgcolor": "#E5ECF6",
          "polar": {
           "angularaxis": {
            "gridcolor": "white",
            "linecolor": "white",
            "ticks": ""
           },
           "bgcolor": "#E5ECF6",
           "radialaxis": {
            "gridcolor": "white",
            "linecolor": "white",
            "ticks": ""
           }
          },
          "scene": {
           "xaxis": {
            "backgroundcolor": "#E5ECF6",
            "gridcolor": "white",
            "gridwidth": 2,
            "linecolor": "white",
            "showbackground": true,
            "ticks": "",
            "zerolinecolor": "white"
           },
           "yaxis": {
            "backgroundcolor": "#E5ECF6",
            "gridcolor": "white",
            "gridwidth": 2,
            "linecolor": "white",
            "showbackground": true,
            "ticks": "",
            "zerolinecolor": "white"
           },
           "zaxis": {
            "backgroundcolor": "#E5ECF6",
            "gridcolor": "white",
            "gridwidth": 2,
            "linecolor": "white",
            "showbackground": true,
            "ticks": "",
            "zerolinecolor": "white"
           }
          },
          "shapedefaults": {
           "line": {
            "color": "#2a3f5f"
           }
          },
          "ternary": {
           "aaxis": {
            "gridcolor": "white",
            "linecolor": "white",
            "ticks": ""
           },
           "baxis": {
            "gridcolor": "white",
            "linecolor": "white",
            "ticks": ""
           },
           "bgcolor": "#E5ECF6",
           "caxis": {
            "gridcolor": "white",
            "linecolor": "white",
            "ticks": ""
           }
          },
          "title": {
           "x": 0.05
          },
          "xaxis": {
           "automargin": true,
           "gridcolor": "white",
           "linecolor": "white",
           "ticks": "",
           "title": {
            "standoff": 15
           },
           "zerolinecolor": "white",
           "zerolinewidth": 2
          },
          "yaxis": {
           "automargin": true,
           "gridcolor": "white",
           "linecolor": "white",
           "ticks": "",
           "title": {
            "standoff": 15
           },
           "zerolinecolor": "white",
           "zerolinewidth": 2
          }
         }
        },
        "title": {
         "text": "Output Bitstring Occurrences and Trap Results per Noise Level (p)"
        },
        "xaxis": {
         "anchor": "y",
         "domain": [
          0,
          0.616
         ]
        },
        "xaxis2": {
         "anchor": "y2",
         "domain": [
          0,
          0.616
         ]
        },
        "xaxis3": {
         "anchor": "y3",
         "domain": [
          0,
          0.616
         ]
        },
        "xaxis4": {
         "anchor": "y4",
         "domain": [
          0,
          0.616
         ]
        },
        "xaxis5": {
         "anchor": "y5",
         "domain": [
          0,
          0.616
         ]
        },
        "xaxis6": {
         "anchor": "y6",
         "domain": [
          0,
          0.616
         ]
        },
        "yaxis": {
         "anchor": "x",
         "domain": [
          0.875,
          1
         ]
        },
        "yaxis2": {
         "anchor": "x2",
         "domain": [
          0.7,
          0.825
         ]
        },
        "yaxis3": {
         "anchor": "x3",
         "domain": [
          0.525,
          0.65
         ]
        },
        "yaxis4": {
         "anchor": "x4",
         "domain": [
          0.35,
          0.475
         ]
        },
        "yaxis5": {
         "anchor": "x5",
         "domain": [
          0.175,
          0.3
         ]
        },
        "yaxis6": {
         "anchor": "x6",
         "domain": [
          0,
          0.125
         ]
        }
       }
      }
     },
     "metadata": {},
     "output_type": "display_data"
    }
   ],
   "source": [
    "import plotly.graph_objects as go\n",
    "from plotly.subplots import make_subplots\n",
    "\n",
    "\n",
    "# Function to get color based on p value\n",
    "def get_heatmap_color(p, colormap_name=\"coolwarm\", vmin=0.1, vmax=1):\n",
    "    colormap = cm.get_cmap(colormap_name)\n",
    "    norm = LogNorm(vmin=vmin, vmax=vmax)  # Normalize p within [vmin, vmax]\n",
    "    return to_hex(colormap(norm(p)))  # Convert to hex color for Plotly\n",
    "\n",
    "\n",
    "# Number of rows and columns for the subplot grid\n",
    "num_rows = len(all_histograms)  # Each p value gets its own row\n",
    "num_cols = 2  # One column for bar chart, one for pie chart\n",
    "\n",
    "# Create a subplot grid with multiple rows and columns\n",
    "fig = make_subplots(\n",
    "    rows=num_rows,\n",
    "    cols=num_cols,\n",
    "    column_widths=[0.7, 0.3],\n",
    "    row_titles=[f\"p={p}\" for p in all_histograms.keys()],\n",
    "    subplot_titles=[\"Output Bitstring Occurrences\", \"Failed/Passed Traps\"] * len(all_histograms),\n",
    "    vertical_spacing=0.05,\n",
    "    specs=[[{\"type\": \"bar\"}, {\"type\": \"pie\"}] for _ in range(num_rows)],\n",
    ")\n",
    "\n",
    "# Add bar charts and pie charts for each p value\n",
    "colors = [\"#EF553B\", \"#a5ff33\"]  # Red for 'Failed traps', Green for 'Passed traps'\n",
    "\n",
    "for idx, (p, histogram) in enumerate(all_histograms.items()):\n",
    "    frequencies = [histogram.get(outcome, 0) for outcome in all_outcomes]\n",
    "\n",
    "    # Get colors for each bar based on the current p value\n",
    "    bar_colors = [get_heatmap_color(p + 0.1) for _ in all_outcomes]\n",
    "\n",
    "    # Add bar chart to the first column\n",
    "    fig.add_trace(\n",
    "        go.Bar(x=all_outcomes, y=frequencies, name=f\"Bitstrings (p={p})\", marker=dict(color=bar_colors)),\n",
    "        row=idx + 1,\n",
    "        col=1,\n",
    "    )\n",
    "\n",
    "    # Add pie chart to the second column\n",
    "    failed_value = failed_traps_histograms.get(p, 0)\n",
    "    fig.add_trace(\n",
    "        go.Pie(\n",
    "            labels=[\"Failed traps\", \"Passed traps\"],\n",
    "            values=[failed_value, 1 - failed_value],\n",
    "            marker=dict(colors=colors),\n",
    "            name=f\"Traps (p={p})\",\n",
    "        ),\n",
    "        row=idx + 1,\n",
    "        col=2,\n",
    "    )\n",
    "\n",
    "# Update layout for better spacing and appearance\n",
    "fig.update_layout(\n",
    "    title=\"Output Bitstring Occurrences and Trap Results per Noise Level (p)\",\n",
    "    height=400 * num_rows,  # Dynamic height based on the number of rows\n",
    "    showlegend=False,  # Disable legend for clarity\n",
    ")\n",
    "\n",
    "fig.show()"
   ]
  }
 ],
 "metadata": {
  "kernelspec": {
   "display_name": "Python 3 (ipykernel)",
   "language": "python",
   "name": "python3"
  },
  "language_info": {
   "codemirror_mode": {
    "name": "ipython",
    "version": 3
   },
   "file_extension": ".py",
   "mimetype": "text/x-python",
   "name": "python",
   "nbconvert_exporter": "python",
   "pygments_lexer": "ipython3",
   "version": "3.12.4"
  }
 },
 "nbformat": 4,
 "nbformat_minor": 4
}
